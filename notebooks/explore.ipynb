{
 "cells": [
  {
   "cell_type": "code",
   "execution_count": 2,
   "metadata": {},
   "outputs": [],
   "source": [
    "import popgetter\n",
    "from icecream import ic\n",
    "import pandas as pd\n",
    "import re"
   ]
  },
  {
   "cell_type": "code",
   "execution_count": null,
   "metadata": {},
   "outputs": [],
   "source": [
    "catalog: pd.DataFrame = popgetter.defs.load_asset_value([\"be\", \"catalog_as_dataframe\"])\n",
    "\n",
    "geo_cat = catalog[\n",
    "    catalog[\"source_format\"].str.contains(\n",
    "        \"http://publications.europa.eu/resource/authority/file-type/GEOJSON\"\n",
    "    )\n",
    "]\n",
    "\n",
    "\n",
    "pop_stats = catalog[\n",
    "    catalog[\"human_readable_name\"].str.contains(\"Population by Statistical sector\")\n",
    "]\n",
    "pop_stats = pop_stats[[\"node\", \"human_readable_name\", \"description\"]]\n",
    "\n",
    "for i, row in pop_stats.iterrows():\n",
    "    print(row[\"node\"])\n",
    "    print(row[\"human_readable_name\"])\n",
    "    print(row[\"description\"])\n",
    "    print(\"~~~~~~~~~~~~~~~~~~~~~~~~\")\n",
    "\n",
    "# Statistical sectors 2023\n",
    "# \"node\" : \"https://statbel.fgov.be/node/4726\","
   ]
  },
  {
   "cell_type": "code",
   "execution_count": 32,
   "metadata": {},
   "outputs": [
    {
     "name": "stderr",
     "output_type": "stream",
     "text": [
      "2024-07-04 11:42:45 +0100 - dagster - DEBUG - system - Loading file from: /Users/a.smith/code/urbananalytics/popgetter/persist/storage/gbr/catalog using PickledObjectFilesystemIOManager...\n",
      "ic| source_download_url: array(['https://www.nomisweb.co.uk/output/census/2021/census2021-ts001.zip'],\n",
      "                               dtype=object)\n",
      "ic| source_archive_file_path: 'census2021-ts001-oa.csv'\n",
      "ic| source_download_url: array(['https://www.nomisweb.co.uk/output/census/2021/census2021-ts001.zip'],\n",
      "                               dtype=object)\n",
      "ic| source_archive_file_path: 'census2021-ts001-oa.csv'\n"
     ]
    },
    {
     "data": {
      "text/plain": [
       "'census2021-ts001-oa.csv'"
      ]
     },
     "execution_count": 32,
     "metadata": {},
     "output_type": "execute_result"
    }
   ],
   "source": [
    "catalog: pd.DataFrame = popgetter.defs.load_asset_value([\"gbr\", \"catalog\"])\n",
    "\n",
    "# catalog.head(1).T\n",
    "\n",
    "current_table = catalog[catalog[\"partition_key\"] == \"oa/TS001\"]\n",
    "\n",
    "source_download_url = current_table[\"source_download_url\"].values\n",
    "source_archive_file_path = current_table[\"source_archive_file_path\"].values[0]\n",
    "\n",
    "ic(source_download_url)\n",
    "ic(source_archive_file_path)\n",
    "\n",
    "source_download_url = current_table[\"source_download_url\"].to_numpy()\n",
    "source_archive_file_path = current_table[\"source_archive_file_path\"].to_numpy()[0]\n",
    "\n",
    "ic(source_download_url)\n",
    "ic(source_archive_file_path)"
   ]
  },
  {
   "cell_type": "code",
   "execution_count": null,
   "metadata": {},
   "outputs": [],
   "source": [
    "geometry = popgetter.defs.load_asset_value(\n",
    "    [\"be\", \"individual_census_table\"], partition_key=\"https://statbel.fgov.be/node/4726\"\n",
    ")\n",
    "# Statistical sectors 2023\n",
    "# geometry.head()\n",
    "# ic(geometry.columns)\n",
    "geometry.plot(legend=True)"
   ]
  },
  {
   "cell_type": "code",
   "execution_count": null,
   "metadata": {},
   "outputs": [],
   "source": [
    "import requests\n",
    "\n",
    "# Get description of the table\n",
    "api_url = \"https://www.nomisweb.co.uk/api/v01/dataset/nm_1_1.overview.json?select=DateMetadata,DatasetMetadata,Dimensions,DimensionMetadata\"\n",
    "\n",
    "api_url = \"https://www.nomisweb.co.uk/api/v01/dataset/C2021TS001/overview.json?select=DatesetInfo\"\n",
    "\n",
    "api_url = \"https://www.nomisweb.co.uk/api/v01/concept/C2021TS001.def.sdmx.json\"\n",
    "\n",
    "\n",
    "# DatasetInfo"
   ]
  },
  {
   "cell_type": "code",
   "execution_count": 24,
   "metadata": {},
   "outputs": [
    {
     "name": "stderr",
     "output_type": "stream",
     "text": [
      "ic| df.shape: (331, 312)\n",
      "ic| list(range(5, 17)): [5, 6, 7, 8, 9, 10, 11, 12, 13, 14, 15, 16]\n",
      "ic| columns_to_sum: ['Sex: All persons; Age: Aged 5 years; measures: Value',\n",
      "                     'Sex: All persons; Age: Aged 6 years; measures: Value',\n",
      "                     'Sex: All persons; Age: Aged 7 years; measures: Value',\n",
      "                     'Sex: All persons; Age: Aged 8 years; measures: Value',\n",
      "                     'Sex: All persons; Age: Aged 9 years; measures: Value',\n",
      "                     'Sex: All persons; Age: Aged 10 years; measures: Value',\n",
      "                     'Sex: All persons; Age: Aged 11 years; measures: Value',\n",
      "                     'Sex: All persons; Age: Aged 12 years; measures: Value',\n",
      "                     'Sex: All persons; Age: Aged 13 years; measures: Value',\n",
      "                     'Sex: All persons; Age: Aged 14 years; measures: Value',\n",
      "                     'Sex: All persons; Age: Aged 15 years; measures: Value',\n",
      "                     'Sex: All persons; Age: Aged 16 years; measures: Value',\n",
      "                     'Sex: All persons; Age: Aged 17 years; measures: Value']\n",
      "ic| new_table.shape: (331, 4)\n",
      "ic| new_table.head():    date             geography geography code  new_col\n",
      "                      0  2021            Hartlepool      E06000001    14847\n",
      "                      1  2021         Middlesbrough      E06000002    24540\n",
      "                      2  2021  Redcar and Cleveland      E06000003    20440\n",
      "                      3  2021      Stockton-on-Tees      E06000004    32528\n",
      "                      4  2021            Darlington      E06000005    16739\n",
      "ic| new_table.columns: Index(['date', 'geography', 'geography code', 'new_col'], dtype='object')\n"
     ]
    },
    {
     "data": {
      "text/plain": [
       "Index(['date', 'geography', 'geography code', 'new_col'], dtype='object')"
      ]
     },
     "execution_count": 24,
     "metadata": {},
     "output_type": "execute_result"
    }
   ],
   "source": [
    "# Test aggregation of census2021-ts009-ltla\n",
    "\n",
    "df = pd.read_csv(\"/Users/a.smith/Downloads/census2021-ts009/census2021-ts009-ltla.csv\")\n",
    "ic(df.shape)\n",
    "\n",
    "# single_row = df.head(1)\n",
    "# ic(single_row.T)\n",
    "\n",
    "# Reproduce this example from NI:\n",
    "# DerivedColumn(\n",
    "#     hxltag=\"#population+children+age5_17\",\n",
    "#     filter_func=lambda df: df.query(f\"{age_code} >= 5 and {age_code} < 18\"),\n",
    "#     output_column_name=\"children_5_17\",\n",
    "#     human_readable_name=\"Children aged 5 to 17\",\n",
    "# ),\n",
    "\n",
    "\n",
    "def columns_for_5_17():\n",
    "    regex_str = r\"Sex: All persons; Age: Aged (?P<age>\\d\\d?) years?; measures: Value\"\n",
    "    regex = re.compile(regex_str)\n",
    "\n",
    "    ic(list(range(5, 17)))\n",
    "\n",
    "    columns_to_sum = []\n",
    "    for col in df.columns:\n",
    "        match = regex.search(col)\n",
    "        if match and int(match.group(\"age\")) in list(range(5, 18)):\n",
    "            columns_to_sum.append(col)\n",
    "    return columns_to_sum\n",
    "\n",
    "\n",
    "#  [col for col in df.columns if ic(regex.search(col).group(\"age\")) in (\"0\", \"1\")]\n",
    "columns_to_sum = columns_for_5_17()\n",
    "ic(columns_to_sum)\n",
    "\n",
    "# filter_func = lambda row: sum([col in row for col in (\"All ages\", \"All\")])\n",
    "func = lambda row: sum([row[col] for col in columns_to_sum])\n",
    "\n",
    "# result = single_row.apply(filter_func, axis=1)\n",
    "# ic(result)\n",
    "\n",
    "new_table = df.assign(**{\"new_col\": df.apply(func, axis=1)}).filter(\n",
    "    [\"date\", \"geography\", \"geography code\", \"new_col\"]\n",
    ")\n",
    "ic(new_table.shape)\n",
    "ic(new_table.head())\n",
    "ic(new_table.columns)\n",
    "# for r in single_row.columns:\n",
    "#     print(r)\n",
    "# ic(new_table[['date', 'geography', 'geography code', 'new_col']])"
   ]
  },
  {
   "cell_type": "code",
   "execution_count": 25,
   "metadata": {},
   "outputs": [
    {
     "name": "stderr",
     "output_type": "stream",
     "text": [
      "ic| l: ['z', 'a', 'b', 'c']\n"
     ]
    },
    {
     "data": {
      "text/plain": [
       "['z', 'a', 'b', 'c']"
      ]
     },
     "execution_count": 25,
     "metadata": {},
     "output_type": "execute_result"
    }
   ],
   "source": [
    "d = {\"a\": 1, \"b\": 2, \"c\": 3}\n",
    "\n",
    "l = [\"z\", *d.keys()]\n",
    "ic(l)"
   ]
  },
  {
   "cell_type": "code",
   "execution_count": 53,
   "metadata": {},
   "outputs": [
    {
     "name": "stdout",
     "output_type": "stream",
     "text": [
      "abc\n",
      "defghi\n",
      "jklmnopqrstuvwxyz\n"
     ]
    }
   ],
   "source": [
    "# Understanding partials\n",
    "\n",
    "from functools import partial\n",
    "\n",
    "\n",
    "all_columns_to_sum = [\n",
    "    [\"a\", \"b\", \"c\"],\n",
    "    [\"d\", \"e\", \"f\", \"g\", \"h\", \"i\"],\n",
    "    [\n",
    "        \"j\",\n",
    "        \"k\",\n",
    "        \"l\",\n",
    "        \"m\",\n",
    "        \"n\",\n",
    "        \"o\",\n",
    "        \"p\",\n",
    "        \"q\",\n",
    "        \"r\",\n",
    "        \"s\",\n",
    "        \"t\",\n",
    "        \"u\",\n",
    "        \"v\",\n",
    "        \"w\",\n",
    "        \"x\",\n",
    "        \"y\",\n",
    "        \"z\",\n",
    "    ],\n",
    "]\n",
    "\n",
    "all_funcs = []\n",
    "\n",
    "for columns_to_sum in all_columns_to_sum:\n",
    "\n",
    "    def func(char_list):\n",
    "        # return sum([row[col] for col in columns_to_sum])\n",
    "        # return partial(lambda x: \"\".join(x), char_list)\n",
    "        return \"\".join(char_list)\n",
    "\n",
    "    all_funcs.append(partial(func, char_list=columns_to_sum))\n",
    "\n",
    "\n",
    "for my_func in all_funcs:\n",
    "    print(my_func())\n",
    "    # print(filter_func({\"a\": 1, \"b\": 2, \"c\": 3, \"d\": 4, \"e\": 5, \"f\": 6}))\n",
    "\n",
    "# def filter_func(row):\n",
    "#     return sum([row[col] for col in columns_to_sum])"
   ]
  },
  {
   "cell_type": "code",
   "execution_count": 61,
   "metadata": {},
   "outputs": [
    {
     "name": "stderr",
     "output_type": "stream",
     "text": [
      "2024-07-04 20:31:03 +0100 - dagster - DEBUG - system - Loading file from: /Users/a.smith/code/urbananalytics/popgetter/persist/storage/gbr/census_tables/ltla/TS009 using PickledObjectFilesystemIOManager...\n",
      "ic| type(derived): <class 'pandas.core.frame.DataFrame'>\n",
      "ic| derived.head(1).T:                                                              0\n",
      "                       date                                                      2021\n",
      "                       geography                                           Hartlepool\n",
      "                       geography code                                       E06000001\n",
      "                       Sex: All persons; Age: Total; measures: Value            92347\n",
      "                       Sex: All persons; Age: Aged 4 years and under; ...        4981\n",
      "                       ...                                                        ...\n",
      "                       Sex: Male; Age: Aged 86 years; measures: Value             122\n",
      "                       Sex: Male; Age: Aged 87 years; measures: Value             122\n",
      "                       Sex: Male; Age: Aged 88 years; measures: Value             101\n",
      "                       Sex: Male; Age: Aged 89 years; measures: Value              81\n",
      "                       Sex: Male; Age: Aged 90 years and over; measure...         217\n",
      "                       \n",
      "                       [312 rows x 1 columns]\n"
     ]
    },
    {
     "data": {
      "text/html": [
       "<div>\n",
       "<style scoped>\n",
       "    .dataframe tbody tr th:only-of-type {\n",
       "        vertical-align: middle;\n",
       "    }\n",
       "\n",
       "    .dataframe tbody tr th {\n",
       "        vertical-align: top;\n",
       "    }\n",
       "\n",
       "    .dataframe thead th {\n",
       "        text-align: right;\n",
       "    }\n",
       "</style>\n",
       "<table border=\"1\" class=\"dataframe\">\n",
       "  <thead>\n",
       "    <tr style=\"text-align: right;\">\n",
       "      <th></th>\n",
       "      <th>0</th>\n",
       "    </tr>\n",
       "  </thead>\n",
       "  <tbody>\n",
       "    <tr>\n",
       "      <th>date</th>\n",
       "      <td>2021</td>\n",
       "    </tr>\n",
       "    <tr>\n",
       "      <th>geography</th>\n",
       "      <td>Hartlepool</td>\n",
       "    </tr>\n",
       "    <tr>\n",
       "      <th>geography code</th>\n",
       "      <td>E06000001</td>\n",
       "    </tr>\n",
       "    <tr>\n",
       "      <th>Sex: All persons; Age: Total; measures: Value</th>\n",
       "      <td>92347</td>\n",
       "    </tr>\n",
       "    <tr>\n",
       "      <th>Sex: All persons; Age: Aged 4 years and under; measures: Value</th>\n",
       "      <td>4981</td>\n",
       "    </tr>\n",
       "    <tr>\n",
       "      <th>...</th>\n",
       "      <td>...</td>\n",
       "    </tr>\n",
       "    <tr>\n",
       "      <th>Sex: Male; Age: Aged 86 years; measures: Value</th>\n",
       "      <td>122</td>\n",
       "    </tr>\n",
       "    <tr>\n",
       "      <th>Sex: Male; Age: Aged 87 years; measures: Value</th>\n",
       "      <td>122</td>\n",
       "    </tr>\n",
       "    <tr>\n",
       "      <th>Sex: Male; Age: Aged 88 years; measures: Value</th>\n",
       "      <td>101</td>\n",
       "    </tr>\n",
       "    <tr>\n",
       "      <th>Sex: Male; Age: Aged 89 years; measures: Value</th>\n",
       "      <td>81</td>\n",
       "    </tr>\n",
       "    <tr>\n",
       "      <th>Sex: Male; Age: Aged 90 years and over; measures: Value</th>\n",
       "      <td>217</td>\n",
       "    </tr>\n",
       "  </tbody>\n",
       "</table>\n",
       "<p>312 rows × 1 columns</p>\n",
       "</div>"
      ],
      "text/plain": [
       "                                                             0\n",
       "date                                                      2021\n",
       "geography                                           Hartlepool\n",
       "geography code                                       E06000001\n",
       "Sex: All persons; Age: Total; measures: Value            92347\n",
       "Sex: All persons; Age: Aged 4 years and under; ...        4981\n",
       "...                                                        ...\n",
       "Sex: Male; Age: Aged 86 years; measures: Value             122\n",
       "Sex: Male; Age: Aged 87 years; measures: Value             122\n",
       "Sex: Male; Age: Aged 88 years; measures: Value             101\n",
       "Sex: Male; Age: Aged 89 years; measures: Value              81\n",
       "Sex: Male; Age: Aged 90 years and over; measure...         217\n",
       "\n",
       "[312 rows x 1 columns]"
      ]
     },
     "execution_count": 61,
     "metadata": {},
     "output_type": "execute_result"
    }
   ],
   "source": [
    "derived = popgetter.defs.load_asset_value(\n",
    "    [\"gbr\", \"census_tables\"], partition_key=\"ltla/TS009\"\n",
    ")\n",
    "\n",
    "ic(type(derived))\n",
    "ic(derived.head(1).T)\n",
    "# ic(derived.metadata)\n",
    "# ic(derived.metrics.head(1).T)"
   ]
  }
 ],
 "metadata": {
  "kernelspec": {
   "display_name": "popget-dev",
   "language": "python",
   "name": "python3"
  },
  "language_info": {
   "codemirror_mode": {
    "name": "ipython",
    "version": 3
   },
   "file_extension": ".py",
   "mimetype": "text/x-python",
   "name": "python",
   "nbconvert_exporter": "python",
   "pygments_lexer": "ipython3",
   "version": "3.12.2"
  }
 },
 "nbformat": 4,
 "nbformat_minor": 2
}
