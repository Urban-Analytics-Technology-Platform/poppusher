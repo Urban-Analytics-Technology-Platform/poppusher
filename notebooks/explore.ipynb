{
 "cells": [
  {
   "cell_type": "code",
   "execution_count": null,
   "metadata": {},
   "outputs": [],
   "source": [
    "import popgetter\n",
    "from icecream import ic\n",
    "import pandas as pd\n",
    "\n",
    "catalog: pd.DataFrame = popgetter.defs.load_asset_value([\"be\", \"catalog_as_dataframe\"])\n",
    "\n",
    "geo_cat = catalog[\n",
    "    catalog[\"source_format\"].str.contains(\n",
    "        \"http://publications.europa.eu/resource/authority/file-type/GEOJSON\"\n",
    "    )\n",
    "]\n",
    "\n",
    "\n",
    "pop_stats = catalog[\n",
    "    catalog[\"human_readable_name\"].str.contains(\"Population by Statistical sector\")\n",
    "]\n",
    "pop_stats = pop_stats[[\"node\", \"human_readable_name\", \"description\"]]\n",
    "\n",
    "for i, row in pop_stats.iterrows():\n",
    "    print(row[\"node\"])\n",
    "    print(row[\"human_readable_name\"])\n",
    "    print(row[\"description\"])\n",
    "    print(\"~~~~~~~~~~~~~~~~~~~~~~~~\")\n",
    "\n",
    "# Statistical sectors 2023\n",
    "# \"node\" : \"https://statbel.fgov.be/node/4726\","
   ]
  },
  {
   "cell_type": "code",
   "execution_count": null,
   "metadata": {},
   "outputs": [],
   "source": [
    "geometry = popgetter.defs.load_asset_value(\n",
    "    [\"be\", \"individual_census_table\"], partition_key=\"https://statbel.fgov.be/node/4726\"\n",
    ")\n",
    "# Statistical sectors 2023\n",
    "# geometry.head()\n",
    "# ic(geometry.columns)\n",
    "geometry.plot(legend=True)"
   ]
  }
 ],
 "metadata": {
  "kernelspec": {
   "display_name": "popget-dev",
   "language": "python",
   "name": "python3"
  },
  "language_info": {
   "codemirror_mode": {
    "name": "ipython",
    "version": 3
   },
   "file_extension": ".py",
   "mimetype": "text/x-python",
   "name": "python",
   "nbconvert_exporter": "python",
   "pygments_lexer": "ipython3",
   "version": "3.11.5"
  }
 },
 "nbformat": 4,
 "nbformat_minor": 2
}
